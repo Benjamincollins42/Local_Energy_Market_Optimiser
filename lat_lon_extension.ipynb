{
 "cells": [
  {
   "cell_type": "code",
   "execution_count": 1,
   "metadata": {},
   "outputs": [],
   "source": [
    "%reload_ext autoreload\n",
    "%autoreload 2"
   ]
  },
  {
   "cell_type": "code",
   "execution_count": 2,
   "metadata": {},
   "outputs": [
    {
     "name": "stderr",
     "output_type": "stream",
     "text": [
      "/home/bc/anaconda3/lib/python3.9/site-packages/geopandas/_compat.py:112: UserWarning: The Shapely GEOS version (3.10.3-CAPI-1.16.1) is incompatible with the GEOS version PyGEOS was compiled with (3.10.4-CAPI-1.16.2). Conversions between both will be slow.\n",
      "  warnings.warn(\n"
     ]
    }
   ],
   "source": [
    "import pandas as pd\n",
    "import numpy as np\n",
    "import geopandas as geopd\n",
    "from linear_prog_LEM_optimiser import prepare_data"
   ]
  },
  {
   "cell_type": "code",
   "execution_count": 3,
   "metadata": {},
   "outputs": [],
   "source": [
    "bids_df = pd.read_csv(f'./data/bids.csv', index_col=0)\n",
    "\n",
    "# extending a test dataset to contain a range of latitude and longnitude coordinates roughly of manchester\n",
    "test_df = bids_df.query('`time` == 0').copy()\n",
    "test_df['lat'] = np.random.random(size=len(test_df)) * 0.1 + 53.4\n",
    "test_df['lon'] = np.random.random(size=len(test_df)) * - 0.2 - 2.2\n",
    "test_df['max_distance_m'] = (np.random.random(size=len(test_df)) * 3 + 3) * 1000"
   ]
  },
  {
   "cell_type": "code",
   "execution_count": 4,
   "metadata": {},
   "outputs": [
    {
     "data": {
      "text/plain": [
       "32630"
      ]
     },
     "execution_count": 4,
     "metadata": {},
     "output_type": "execute_result"
    }
   ],
   "source": [
    "def get_epsg(lat,lon):\n",
    "    \"\"\"\n",
    "    Gets the epsg which is a localised area specific coordinate system which allows for precision things\n",
    "\n",
    "    Parameters\n",
    "    ----------\n",
    "    lat : array_like\n",
    "        the latitude\n",
    "    lon :\n",
    "        the longitude\n",
    "\n",
    "    Returns\n",
    "    -------\n",
    "    int\n",
    "        the espg code for the approach\n",
    "    \"\"\" \n",
    "    utm_band = str(int(np.floor((lon + 180) / 6 ) % 60) + 1)\n",
    "    \n",
    "    if lat >= 0:\n",
    "        epsg_code = '326' + utm_band\n",
    "        return int(epsg_code)\n",
    "    else:\n",
    "        epsg_code = '327' + utm_band\n",
    "        \n",
    "        return int(epsg_code)\n",
    "\n",
    "get_epsg(53.445, -2.081)"
   ]
  },
  {
   "cell_type": "code",
   "execution_count": 5,
   "metadata": {},
   "outputs": [],
   "source": [
    "def get_valid_distances(seller_df: pd.DataFrame, buyer_df: pd.DataFrame) -> np.array(int):\n",
    "    \"\"\"Determine which purchases are valid between seller and buyer pairs\n",
    "\n",
    "    Parameters\n",
    "    ----------\n",
    "    seller_df : pandas.DataFrame\n",
    "        Dataframe containing all the sell bids\n",
    "    buyer_df : pandas.DataFrame\n",
    "        Dataframe containing all the buy bids\n",
    "\n",
    "    Returns\n",
    "    -------\n",
    "    numpy.array(int)\n",
    "        2D array encoding valid purchases with a 1 indexed [buyer, seller]\n",
    "    \"\"\"\n",
    "    valid_buy_distance = np.zeros((len(buyer_df), len(seller_df)), dtype='uint8')\n",
    "    valid_sell_distance = np.zeros((len(buyer_df), len(seller_df)), dtype='uint8')\n",
    "\n",
    "    # getting the correct coordinate system\n",
    "    epsg = get_epsg(seller_df.iloc[0].lat, seller_df.iloc[0].lon)\n",
    "    seller_geo_df = geopd.GeoDataFrame(seller_df, geometry=geopd.points_from_xy(seller_df.lon, seller_df.lat, crs=\"WGS84\"))\n",
    "    buyer_geo_df = geopd.GeoDataFrame(buyer_df, geometry=geopd.points_from_xy(buyer_df.lon, buyer_df.lat, crs=\"WGS84\"))\n",
    "\n",
    "    # converting coordinates to units of m \n",
    "    seller_geo_df.to_crs(epsg=epsg, inplace=True)\n",
    "    buyer_geo_df.to_crs(epsg=epsg, inplace=True)\n",
    "\n",
    "\n",
    "    for i, buy_bid in enumerate(buyer_geo_df.itertuples(index=False)):\n",
    "        # finding all valid distances for each buy bid\n",
    "        valid_dist_index = seller_geo_df[seller_geo_df.distance(buy_bid.geometry) < buy_bid.max_distance_m].index\n",
    "        valid_buy_distance[i, valid_dist_index] = 1\n",
    "\n",
    "    for i, sell_bid in enumerate(seller_geo_df.itertuples(index=False)):\n",
    "        # finding all valid distances for each sell bid\n",
    "        valid_dist_index = buyer_geo_df[buyer_geo_df.distance(sell_bid.geometry) < sell_bid.max_distance_m].index\n",
    "        valid_sell_distance[valid_dist_index, i] = 1\n",
    "\n",
    "    # taking only valid distances for both\n",
    "    return valid_buy_distance * valid_sell_distance"
   ]
  },
  {
   "cell_type": "code",
   "execution_count": 6,
   "metadata": {},
   "outputs": [],
   "source": [
    "test_seller_df, test_buyer_df = prepare_data(test_df)\n",
    "test_valid_distance = get_valid_distances(test_seller_df, test_buyer_df)"
   ]
  },
  {
   "cell_type": "code",
   "execution_count": null,
   "metadata": {},
   "outputs": [],
   "source": []
  }
 ],
 "metadata": {
  "kernelspec": {
   "display_name": "base",
   "language": "python",
   "name": "python3"
  },
  "language_info": {
   "codemirror_mode": {
    "name": "ipython",
    "version": 3
   },
   "file_extension": ".py",
   "mimetype": "text/x-python",
   "name": "python",
   "nbconvert_exporter": "python",
   "pygments_lexer": "ipython3",
   "version": "3.9.12"
  },
  "orig_nbformat": 4
 },
 "nbformat": 4,
 "nbformat_minor": 2
}
